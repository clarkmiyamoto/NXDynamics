{
 "cells": [
  {
   "cell_type": "markdown",
   "metadata": {},
   "source": [
    "# Run Single Simulation of Ising Model Using Glaubber Dynamics"
   ]
  },
  {
   "cell_type": "code",
   "execution_count": 7,
   "metadata": {},
   "outputs": [
    {
     "name": "stderr",
     "output_type": "stream",
     "text": [
      " 18%|█▊        | 1770/10000 [00:53<07:39, 17.91it/s]"
     ]
    }
   ],
   "source": [
    "from nxdynamics.src.graphs.complete_graph import CompleteGraph\n",
    "from nxdynamics.src.time_evolution.ising_model.glaubber import GlaubberDynamics\n",
    "\n",
    "import numpy as np\n",
    "\n",
    "# Parameters of simulation\n",
    "size = 100\n",
    "beta = np.inf\n",
    "initial_mean = -0.4\n",
    "time = int(1E4)\n",
    "\n",
    "# Run simulation\n",
    "inital_spins = CompleteGraph(size=size, mean=initial_mean)\n",
    "sim = GlaubberDynamics(graph=inital_spins,\n",
    "                       beta=beta)\n",
    "sim.run_simulation(time)"
   ]
  },
  {
   "cell_type": "code",
   "execution_count": null,
   "metadata": {},
   "outputs": [
    {
     "name": "stdout",
     "output_type": "stream",
     "text": [
      "final mag is -1.0\n"
     ]
    },
    {
     "data": {
      "image/png": "[encoded data removed]",
      "text/plain": [
       "<Figure size 432x288 with 1 Axes>"
      ]
     },
     "metadata": {
      "needs_background": "light"
     },
     "output_type": "display_data"
    }
   ],
   "source": [
    "import numpy as np\n",
    "import matplotlib.pyplot as plt\n",
    "\n",
    "magnetization = []\n",
    "\n",
    "for i in range(time):\n",
    "    spins = sim.data[i]['node_value']\n",
    "    magnetization_at_i = np.sum(spins) / size\n",
    "\n",
    "    magnetization.append(magnetization_at_i)\n",
    "\n",
    "final_magnetization = np.sum(sim.data[time]['node_value']) / size\n",
    "print(f\"final mag is {final_magnetization}\")\n",
    "\n",
    "plt.plot(magnetization)\n",
    "plt.xlabel('Time (tick)')\n",
    "plt.ylabel(\"Magnetization $\\langle M \\rangle$\")\n",
    "plt.xlim([0,100])\n",
    "plt.show()"
   ]
  },
  {
   "cell_type": "markdown",
   "metadata": {},
   "source": [
    "# Run Averaged Simulation of Glaubber Dyanmics"
   ]
  },
  {
   "cell_type": "code",
   "execution_count": 18,
   "metadata": {},
   "outputs": [
    {
     "name": "stderr",
     "output_type": "stream",
     "text": [
      "100%|██████████| 100/100 [05:57<00:00,  3.58s/it]"
     ]
    },
    {
     "name": "stdout",
     "output_type": "stream",
     "text": [
      "0.0\n"
     ]
    },
    {
     "name": "stderr",
     "output_type": "stream",
     "text": [
      "\n"
     ]
    }
   ],
   "source": [
    "num_trials = 100\n",
    "\n",
    "size = 7\n",
    "beta = 0\n",
    "time = int(1E4)\n",
    "\n",
    "\n",
    "mag_per_trial = []\n",
    "\n",
    "for i in tqdm(range(num_trials)):\n",
    "    inital_spins = CompleteGraph(size=size, mean=0)\n",
    "    sim = GlaubberDynamics(graph=inital_spins,\n",
    "                        beta=beta)\n",
    "    sim.run_simulation(time)\n",
    "\n",
    "    final_magnetization = np.sum(sim.data[time]['node_value'])    \n",
    "\n",
    "averaged_mag = sum(mag_per_trial) / num_trials\n",
    "print(averaged_mag)"
   ]
  },
  {
   "cell_type": "code",
   "execution_count": null,
   "metadata": {},
   "outputs": [],
   "source": []
  }
 ],
 "metadata": {
  "kernelspec": {
   "display_name": "Python 3",
   "language": "python",
   "name": "python3"
  },
  "language_info": {
   "codemirror_mode": {
    "name": "ipython",
    "version": 3
   },
   "file_extension": ".py",
   "mimetype": "text/x-python",
   "name": "python",
   "nbconvert_exporter": "python",
   "pygments_lexer": "ipython3",
   "version": "3.9.7"
  }
 },
 "nbformat": 4,
 "nbformat_minor": 2
}
